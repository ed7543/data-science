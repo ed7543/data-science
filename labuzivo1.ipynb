{
 "cells": [
  {
   "cell_type": "markdown",
   "metadata": {
    "id": "fU3LwS741EZQ"
   },
   "source": [
    "# Requirements"
   ]
  },
  {
   "cell_type": "code",
   "execution_count": 67,
   "metadata": {
    "id": "4aqZf-9e1aKt"
   },
   "outputs": [
    {
     "name": "stderr",
     "output_type": "stream",
     "text": [
      "Matplotlib is building the font cache; this may take a moment.\n"
     ]
    }
   ],
   "source": [
    "from selenium import webdriver\n",
    "from selenium.webdriver.common.by import By\n",
    "import pandas as pd\n",
    "import matplotlib.pyplot as plt"
   ]
  },
  {
   "cell_type": "markdown",
   "metadata": {
    "id": "eVCAmQfy1rqh"
   },
   "source": [
    "# Configuration"
   ]
  },
  {
   "cell_type": "code",
   "execution_count": null,
   "metadata": {
    "id": "wWzehF8809IJ"
   },
   "outputs": [],
   "source": [
    "options = webdriver.ChromeOptions()\n",
    "options.add_argument('--headless')\n",
    "options.add_argument('--no-sandbox')\n",
    "options.add_argument('--disable-dev-shm-usage')"
   ]
  },
  {
   "cell_type": "markdown",
   "metadata": {
    "id": "3FU-fkTj1zEC"
   },
   "source": [
    "# Simple Usage"
   ]
  },
  {
   "cell_type": "code",
   "execution_count": null,
   "metadata": {
    "id": "gGB1un_t10_N"
   },
   "outputs": [],
   "source": [
    "# Initialize the webdriver.\n",
    "browser = webdriver.Chrome(options=options)"
   ]
  },
  {
   "cell_type": "code",
   "execution_count": null,
   "metadata": {
    "id": "8EYuaHWxa-wR"
   },
   "outputs": [],
   "source": [
    "# Navigate to a web page.\n",
    "browser.get('https://www.apple.com/mk/')"
   ]
  },
  {
   "cell_type": "code",
   "execution_count": null,
   "metadata": {
    "id": "HWnwzCye2Fq1"
   },
   "outputs": [],
   "source": [
    "# Print the page source code.\n",
    "print(browser.page_source)"
   ]
  },
  {
   "cell_type": "code",
   "execution_count": null,
   "metadata": {
    "id": "H-5h-xse2L8I"
   },
   "outputs": [],
   "source": [
    "# Select an element from the page.\n",
    "element = browser.find_element(By.CLASS_NAME, 'headline')"
   ]
  },
  {
   "cell_type": "code",
   "execution_count": null,
   "metadata": {
    "id": "Rne65WGs3CJs"
   },
   "outputs": [],
   "source": [
    "# Print the element's innner text.\n",
    "print(element.text)"
   ]
  },
  {
   "cell_type": "markdown",
   "metadata": {
    "id": "JzaK-Awf4hKN"
   },
   "source": [
    "# Laboratory Exercise - Run Mode (8 points)"
   ]
  },
  {
   "cell_type": "markdown",
   "metadata": {
    "id": "S0YnPh8r4p7M"
   },
   "source": [
    "In this laboratory assignment, your goal is to perform web scraping on the website https://sandbox.oxylabs.io/products. Collect information on each product, specifically: name, price, rating, and availability. Organize the extracted data into a data frame. Finally, create a histogram to visually represent the price distribution of the products."
   ]
  },
  {
   "cell_type": "markdown",
   "metadata": {
    "id": "pAWUA3br7pnH"
   },
   "source": [
    "## Hints\n",
    "- To navigate to a specific page with a given URL, use the `browser.get(url)` method.\n",
    "- When selecting a single element, use `browser.find_element`, and for multiple elements, use `browser.find_elements`. Both of these functions take two arguments. The first specifies the attribute used to locate the element on the web page, and the second specifies the value of that attribute.\n",
    "- The `By` class is used to specify which attribute is used to locate elements on a page. These are the various ways the attributes are used to locate elements on a page: `By.ID`, `By.NAME`, `By.TAG_NAME`, `BY.CLASS_NAME`, `By.CSS_SELECTOR`, etc.\n",
    "- For more details, check the documentation (https://selenium-python.readthedocs.io/locating-elements.html)."
   ]
  },
  {
   "cell_type": "markdown",
   "metadata": {
    "id": "JsyFl54d-79Y"
   },
   "source": [
    "## Solution"
   ]
  },
  {
   "cell_type": "code",
   "execution_count": 6,
   "metadata": {},
   "outputs": [
    {
     "name": "stdout",
     "output_type": "stream",
     "text": [
      "Collecting selenium\n",
      "  Downloading selenium-4.26.1-py3-none-any.whl.metadata (7.1 kB)\n",
      "Requirement already satisfied: urllib3<3,>=1.26 in /opt/anaconda3/lib/python3.12/site-packages (from urllib3[socks]<3,>=1.26->selenium) (2.2.3)\n",
      "Collecting trio~=0.17 (from selenium)\n",
      "  Downloading trio-0.27.0-py3-none-any.whl.metadata (8.6 kB)\n",
      "Collecting trio-websocket~=0.9 (from selenium)\n",
      "  Downloading trio_websocket-0.11.1-py3-none-any.whl.metadata (4.7 kB)\n",
      "Requirement already satisfied: certifi>=2021.10.8 in /opt/anaconda3/lib/python3.12/site-packages (from selenium) (2024.8.30)\n",
      "Requirement already satisfied: typing_extensions~=4.9 in /opt/anaconda3/lib/python3.12/site-packages (from selenium) (4.11.0)\n",
      "Requirement already satisfied: websocket-client~=1.8 in /opt/anaconda3/lib/python3.12/site-packages (from selenium) (1.8.0)\n",
      "Collecting attrs>=23.2.0 (from trio~=0.17->selenium)\n",
      "  Downloading attrs-24.2.0-py3-none-any.whl.metadata (11 kB)\n",
      "Requirement already satisfied: sortedcontainers in /opt/anaconda3/lib/python3.12/site-packages (from trio~=0.17->selenium) (2.4.0)\n",
      "Requirement already satisfied: idna in /opt/anaconda3/lib/python3.12/site-packages (from trio~=0.17->selenium) (3.7)\n",
      "Collecting outcome (from trio~=0.17->selenium)\n",
      "  Downloading outcome-1.3.0.post0-py2.py3-none-any.whl.metadata (2.6 kB)\n",
      "Requirement already satisfied: sniffio>=1.3.0 in /opt/anaconda3/lib/python3.12/site-packages (from trio~=0.17->selenium) (1.3.0)\n",
      "Collecting wsproto>=0.14 (from trio-websocket~=0.9->selenium)\n",
      "  Downloading wsproto-1.2.0-py3-none-any.whl.metadata (5.6 kB)\n",
      "Requirement already satisfied: pysocks!=1.5.7,<2.0,>=1.5.6 in /opt/anaconda3/lib/python3.12/site-packages (from urllib3[socks]<3,>=1.26->selenium) (1.7.1)\n",
      "Requirement already satisfied: h11<1,>=0.9.0 in /opt/anaconda3/lib/python3.12/site-packages (from wsproto>=0.14->trio-websocket~=0.9->selenium) (0.14.0)\n",
      "Downloading selenium-4.26.1-py3-none-any.whl (9.7 MB)\n",
      "\u001b[2K   \u001b[90m━━━━━━━━━━━━━━━━━━━━━━━━━━━━━━━━━━━━━━━━\u001b[0m \u001b[32m9.7/9.7 MB\u001b[0m \u001b[31m21.6 MB/s\u001b[0m eta \u001b[36m0:00:00\u001b[0ma \u001b[36m0:00:01\u001b[0m\n",
      "\u001b[?25hDownloading trio-0.27.0-py3-none-any.whl (481 kB)\n",
      "Downloading trio_websocket-0.11.1-py3-none-any.whl (17 kB)\n",
      "Downloading attrs-24.2.0-py3-none-any.whl (63 kB)\n",
      "Downloading wsproto-1.2.0-py3-none-any.whl (24 kB)\n",
      "Downloading outcome-1.3.0.post0-py2.py3-none-any.whl (10 kB)\n",
      "Installing collected packages: wsproto, attrs, outcome, trio, trio-websocket, selenium\n",
      "  Attempting uninstall: attrs\n",
      "    Found existing installation: attrs 23.1.0\n",
      "    Uninstalling attrs-23.1.0:\n",
      "      Successfully uninstalled attrs-23.1.0\n",
      "Successfully installed attrs-24.2.0 outcome-1.3.0.post0 selenium-4.26.1 trio-0.27.0 trio-websocket-0.11.1 wsproto-1.2.0\n"
     ]
    }
   ],
   "source": [
    "!pip install selenium"
   ]
  },
  {
   "cell_type": "code",
   "execution_count": 13,
   "metadata": {
    "id": "LZIHRH7f3F00"
   },
   "outputs": [],
   "source": [
    "# Write your code here. Add as many code boxes as you need.\n",
    "from selenium import webdriver\n",
    "from selenium.webdriver.common.by import By\n",
    "import pandas as pd\n",
    "options = webdriver.ChromeOptions()\n",
    "options.add_argument('--headless')\n",
    "options.add_argument('--no-sandbox')\n",
    "options.add_argument('--disable-dev-shm-usage')\n",
    "browser = webdriver.Chrome(options=options)\n",
    "browser.get('https://sandbox.oxylabs.io/products')"
   ]
  },
  {
   "cell_type": "code",
   "execution_count": 28,
   "metadata": {},
   "outputs": [],
   "source": [
    "name = browser.find_element(By.CLASS_NAME, 'title')\n",
    "price = browser.find_element(By.CLASS_NAME, 'price-wrapper')\n",
    "rating = browser.find_element(By.CLASS_NAME, 'rating')\n",
    "#availability = browser.find_element(By.CLASS_NAME, '\n",
    "#print(name.text)\n",
    "#print(price.text)"
   ]
  },
  {
   "cell_type": "code",
   "execution_count": null,
   "metadata": {},
   "outputs": [],
   "source": []
  },
  {
   "cell_type": "code",
   "execution_count": 105,
   "metadata": {},
   "outputs": [],
   "source": [
    "products = browser.find_elements(By.CLASS_NAME, 'product-card')\n",
    "parsed_products = []\n",
    "\n",
    "for product in products:\n",
    "    name = product.find_element(By.CLASS_NAME, 'title').text.strip()\n",
    "    price = product.find_element(By.CLASS_NAME, 'price-wrapper').text.replace(' €', '').replace(',', '.')\n",
    "    stars = product.find_elements(By.TAG_NAME, 'svg')\n",
    "    rating = len(stars)\n",
    "    parag = product.find_elements(By.TAG_NAME, 'p')\n",
    "    availability = parag[2].text\n",
    "\n",
    "    product_dict = {\n",
    "    \"Name\": name,\n",
    "    \"Price\": price,\n",
    "    \"Availability\": availability,\n",
    "    \"Rating:\": rating\n",
    "    }\n",
    "\n",
    "    parsed_products.append(product_dict)"
   ]
  },
  {
   "cell_type": "code",
   "execution_count": null,
   "metadata": {},
   "outputs": [],
   "source": []
  },
  {
   "cell_type": "code",
   "execution_count": null,
   "metadata": {},
   "outputs": [],
   "source": []
  },
  {
   "cell_type": "code",
   "execution_count": null,
   "metadata": {},
   "outputs": [],
   "source": []
  },
  {
   "cell_type": "code",
   "execution_count": 109,
   "metadata": {},
   "outputs": [
    {
     "data": {
      "text/html": [
       "<div>\n",
       "<style scoped>\n",
       "    .dataframe tbody tr th:only-of-type {\n",
       "        vertical-align: middle;\n",
       "    }\n",
       "\n",
       "    .dataframe tbody tr th {\n",
       "        vertical-align: top;\n",
       "    }\n",
       "\n",
       "    .dataframe thead th {\n",
       "        text-align: right;\n",
       "    }\n",
       "</style>\n",
       "<table border=\"1\" class=\"dataframe\">\n",
       "  <thead>\n",
       "    <tr style=\"text-align: right;\">\n",
       "      <th></th>\n",
       "      <th>Name</th>\n",
       "      <th>Price</th>\n",
       "      <th>Availability</th>\n",
       "      <th>Rating:</th>\n",
       "    </tr>\n",
       "  </thead>\n",
       "  <tbody>\n",
       "    <tr>\n",
       "      <th>0</th>\n",
       "      <td>The Legend of Zelda: Ocarina of Time</td>\n",
       "      <td>91.99</td>\n",
       "      <td>In stock</td>\n",
       "      <td>5</td>\n",
       "    </tr>\n",
       "    <tr>\n",
       "      <th>1</th>\n",
       "      <td>Super Mario Galaxy</td>\n",
       "      <td>91.99</td>\n",
       "      <td>Out of Stock</td>\n",
       "      <td>5</td>\n",
       "    </tr>\n",
       "    <tr>\n",
       "      <th>2</th>\n",
       "      <td>Super Mario Galaxy 2</td>\n",
       "      <td>91.99</td>\n",
       "      <td>In stock</td>\n",
       "      <td>5</td>\n",
       "    </tr>\n",
       "    <tr>\n",
       "      <th>3</th>\n",
       "      <td>Metroid Prime</td>\n",
       "      <td>89.99</td>\n",
       "      <td>Out of Stock</td>\n",
       "      <td>5</td>\n",
       "    </tr>\n",
       "    <tr>\n",
       "      <th>4</th>\n",
       "      <td>Super Mario Odyssey</td>\n",
       "      <td>89.99</td>\n",
       "      <td>In stock</td>\n",
       "      <td>5</td>\n",
       "    </tr>\n",
       "    <tr>\n",
       "      <th>5</th>\n",
       "      <td>Halo: Combat Evolved</td>\n",
       "      <td>87.99</td>\n",
       "      <td>Out of Stock</td>\n",
       "      <td>5</td>\n",
       "    </tr>\n",
       "    <tr>\n",
       "      <th>6</th>\n",
       "      <td>The House in Fata Morgana - Dreams of the Reve...</td>\n",
       "      <td>83.99</td>\n",
       "      <td>In stock</td>\n",
       "      <td>5</td>\n",
       "    </tr>\n",
       "    <tr>\n",
       "      <th>7</th>\n",
       "      <td>NFL 2K1</td>\n",
       "      <td>62.99</td>\n",
       "      <td>Out of Stock</td>\n",
       "      <td>5</td>\n",
       "    </tr>\n",
       "    <tr>\n",
       "      <th>8</th>\n",
       "      <td>Uncharted 2: Among Thieves</td>\n",
       "      <td>88.99</td>\n",
       "      <td>In stock</td>\n",
       "      <td>5</td>\n",
       "    </tr>\n",
       "    <tr>\n",
       "      <th>9</th>\n",
       "      <td>Tekken 3</td>\n",
       "      <td>91.99</td>\n",
       "      <td>Out of Stock</td>\n",
       "      <td>5</td>\n",
       "    </tr>\n",
       "    <tr>\n",
       "      <th>10</th>\n",
       "      <td>The Legend of Zelda: The Wind Waker</td>\n",
       "      <td>90.99</td>\n",
       "      <td>In stock</td>\n",
       "      <td>5</td>\n",
       "    </tr>\n",
       "    <tr>\n",
       "      <th>11</th>\n",
       "      <td>Gran Turismo</td>\n",
       "      <td>86.99</td>\n",
       "      <td>Out of Stock</td>\n",
       "      <td>5</td>\n",
       "    </tr>\n",
       "    <tr>\n",
       "      <th>12</th>\n",
       "      <td>Metal Gear Solid 2: Sons of Liberty</td>\n",
       "      <td>88.99</td>\n",
       "      <td>In stock</td>\n",
       "      <td>5</td>\n",
       "    </tr>\n",
       "    <tr>\n",
       "      <th>13</th>\n",
       "      <td>Grand Theft Auto Double Pack</td>\n",
       "      <td>81.99</td>\n",
       "      <td>Out of Stock</td>\n",
       "      <td>5</td>\n",
       "    </tr>\n",
       "    <tr>\n",
       "      <th>14</th>\n",
       "      <td>Baldur's Gate II: Shadows of Amn</td>\n",
       "      <td>91.99</td>\n",
       "      <td>In stock</td>\n",
       "      <td>5</td>\n",
       "    </tr>\n",
       "    <tr>\n",
       "      <th>15</th>\n",
       "      <td>Tetris Effect: Connected</td>\n",
       "      <td>88.99</td>\n",
       "      <td>Out of Stock</td>\n",
       "      <td>5</td>\n",
       "    </tr>\n",
       "    <tr>\n",
       "      <th>16</th>\n",
       "      <td>The Legend of Zelda Collector's Edition</td>\n",
       "      <td>89.99</td>\n",
       "      <td>In stock</td>\n",
       "      <td>5</td>\n",
       "    </tr>\n",
       "    <tr>\n",
       "      <th>17</th>\n",
       "      <td>Gran Turismo 3: A-Spec</td>\n",
       "      <td>84.99</td>\n",
       "      <td>Out of Stock</td>\n",
       "      <td>5</td>\n",
       "    </tr>\n",
       "    <tr>\n",
       "      <th>18</th>\n",
       "      <td>The Legend of Zelda: A Link to the Past</td>\n",
       "      <td>90.99</td>\n",
       "      <td>In stock</td>\n",
       "      <td>5</td>\n",
       "    </tr>\n",
       "    <tr>\n",
       "      <th>19</th>\n",
       "      <td>The Legend of Zelda: Majora's Mask</td>\n",
       "      <td>91.99</td>\n",
       "      <td>Out of Stock</td>\n",
       "      <td>5</td>\n",
       "    </tr>\n",
       "    <tr>\n",
       "      <th>20</th>\n",
       "      <td>The Last of Us</td>\n",
       "      <td>92.99</td>\n",
       "      <td>In stock</td>\n",
       "      <td>5</td>\n",
       "    </tr>\n",
       "    <tr>\n",
       "      <th>21</th>\n",
       "      <td>Persona 5 Royal</td>\n",
       "      <td>84.99</td>\n",
       "      <td>Out of Stock</td>\n",
       "      <td>5</td>\n",
       "    </tr>\n",
       "    <tr>\n",
       "      <th>22</th>\n",
       "      <td>The Last of Us Remastered</td>\n",
       "      <td>92.99</td>\n",
       "      <td>In stock</td>\n",
       "      <td>5</td>\n",
       "    </tr>\n",
       "    <tr>\n",
       "      <th>23</th>\n",
       "      <td>The Legend of Zelda: Ocarina of Time 3D</td>\n",
       "      <td>90.99</td>\n",
       "      <td>Out of Stock</td>\n",
       "      <td>4</td>\n",
       "    </tr>\n",
       "    <tr>\n",
       "      <th>24</th>\n",
       "      <td>Chrono Cross</td>\n",
       "      <td>88.99</td>\n",
       "      <td>In stock</td>\n",
       "      <td>4</td>\n",
       "    </tr>\n",
       "    <tr>\n",
       "      <th>25</th>\n",
       "      <td>Gears of War</td>\n",
       "      <td>84.99</td>\n",
       "      <td>Out of Stock</td>\n",
       "      <td>4</td>\n",
       "    </tr>\n",
       "    <tr>\n",
       "      <th>26</th>\n",
       "      <td>Sid Meier's Civilization II</td>\n",
       "      <td>88.99</td>\n",
       "      <td>In stock</td>\n",
       "      <td>4</td>\n",
       "    </tr>\n",
       "    <tr>\n",
       "      <th>27</th>\n",
       "      <td>Halo 3</td>\n",
       "      <td>81.99</td>\n",
       "      <td>Out of Stock</td>\n",
       "      <td>4</td>\n",
       "    </tr>\n",
       "    <tr>\n",
       "      <th>28</th>\n",
       "      <td>Ninja Gaiden Black</td>\n",
       "      <td>88.99</td>\n",
       "      <td>In stock</td>\n",
       "      <td>4</td>\n",
       "    </tr>\n",
       "    <tr>\n",
       "      <th>29</th>\n",
       "      <td>Super Mario Advance 4: Super Mario Bros. 3</td>\n",
       "      <td>89.99</td>\n",
       "      <td>Out of Stock</td>\n",
       "      <td>4</td>\n",
       "    </tr>\n",
       "    <tr>\n",
       "      <th>30</th>\n",
       "      <td>Jet Grind Radio</td>\n",
       "      <td>83.99</td>\n",
       "      <td>In stock</td>\n",
       "      <td>4</td>\n",
       "    </tr>\n",
       "    <tr>\n",
       "      <th>31</th>\n",
       "      <td>Grim Fandango</td>\n",
       "      <td>91.99</td>\n",
       "      <td>Out of Stock</td>\n",
       "      <td>4</td>\n",
       "    </tr>\n",
       "  </tbody>\n",
       "</table>\n",
       "</div>"
      ],
      "text/plain": [
       "                                                 Name  Price  Availability  \\\n",
       "0                The Legend of Zelda: Ocarina of Time  91.99      In stock   \n",
       "1                                  Super Mario Galaxy  91.99  Out of Stock   \n",
       "2                                Super Mario Galaxy 2  91.99      In stock   \n",
       "3                                       Metroid Prime  89.99  Out of Stock   \n",
       "4                                 Super Mario Odyssey  89.99      In stock   \n",
       "5                                Halo: Combat Evolved  87.99  Out of Stock   \n",
       "6   The House in Fata Morgana - Dreams of the Reve...  83.99      In stock   \n",
       "7                                             NFL 2K1  62.99  Out of Stock   \n",
       "8                          Uncharted 2: Among Thieves  88.99      In stock   \n",
       "9                                            Tekken 3  91.99  Out of Stock   \n",
       "10                The Legend of Zelda: The Wind Waker  90.99      In stock   \n",
       "11                                       Gran Turismo  86.99  Out of Stock   \n",
       "12                Metal Gear Solid 2: Sons of Liberty  88.99      In stock   \n",
       "13                       Grand Theft Auto Double Pack  81.99  Out of Stock   \n",
       "14                   Baldur's Gate II: Shadows of Amn  91.99      In stock   \n",
       "15                           Tetris Effect: Connected  88.99  Out of Stock   \n",
       "16            The Legend of Zelda Collector's Edition  89.99      In stock   \n",
       "17                             Gran Turismo 3: A-Spec  84.99  Out of Stock   \n",
       "18            The Legend of Zelda: A Link to the Past  90.99      In stock   \n",
       "19                 The Legend of Zelda: Majora's Mask  91.99  Out of Stock   \n",
       "20                                     The Last of Us  92.99      In stock   \n",
       "21                                    Persona 5 Royal  84.99  Out of Stock   \n",
       "22                          The Last of Us Remastered  92.99      In stock   \n",
       "23            The Legend of Zelda: Ocarina of Time 3D  90.99  Out of Stock   \n",
       "24                                       Chrono Cross  88.99      In stock   \n",
       "25                                       Gears of War  84.99  Out of Stock   \n",
       "26                        Sid Meier's Civilization II  88.99      In stock   \n",
       "27                                             Halo 3  81.99  Out of Stock   \n",
       "28                                 Ninja Gaiden Black  88.99      In stock   \n",
       "29         Super Mario Advance 4: Super Mario Bros. 3  89.99  Out of Stock   \n",
       "30                                    Jet Grind Radio  83.99      In stock   \n",
       "31                                      Grim Fandango  91.99  Out of Stock   \n",
       "\n",
       "    Rating:  \n",
       "0         5  \n",
       "1         5  \n",
       "2         5  \n",
       "3         5  \n",
       "4         5  \n",
       "5         5  \n",
       "6         5  \n",
       "7         5  \n",
       "8         5  \n",
       "9         5  \n",
       "10        5  \n",
       "11        5  \n",
       "12        5  \n",
       "13        5  \n",
       "14        5  \n",
       "15        5  \n",
       "16        5  \n",
       "17        5  \n",
       "18        5  \n",
       "19        5  \n",
       "20        5  \n",
       "21        5  \n",
       "22        5  \n",
       "23        4  \n",
       "24        4  \n",
       "25        4  \n",
       "26        4  \n",
       "27        4  \n",
       "28        4  \n",
       "29        4  \n",
       "30        4  \n",
       "31        4  "
      ]
     },
     "execution_count": 109,
     "metadata": {},
     "output_type": "execute_result"
    }
   ],
   "source": [
    "df"
   ]
  },
  {
   "cell_type": "code",
   "execution_count": 107,
   "metadata": {},
   "outputs": [
    {
     "data": {
      "image/png": "[encoded data removed]",
      "text/plain": [
       "<Figure size 640x480 with 1 Axes>"
      ]
     },
     "metadata": {},
     "output_type": "display_data"
    }
   ],
   "source": [
    "df = pd.DataFrame(parsed_products)\n",
    "df\n",
    "plt.hist(df['Price'].astype(float), bins=15)\n",
    "plt.show()"
   ]
  },
  {
   "cell_type": "markdown",
   "metadata": {
    "id": "UyMTnSHn681f"
   },
   "source": [
    "# Laboratory Exercise - Bonus Task (+ 2 points)"
   ]
  },
  {
   "cell_type": "markdown",
   "metadata": {
    "id": "aMhYrG8V7hKY"
   },
   "source": [
    "As an additional task, you will need to click on each product listed on the page, proceed to the individual page for each product, and extract the product description. Subsequently, you are required to compute both the mean and standard deviation of the number of characters of the product descriptions."
   ]
  },
  {
   "cell_type": "markdown",
   "metadata": {
    "id": "jQIBbGWS9-tx"
   },
   "source": [
    "## Hints\n",
    "- To click on a specific `element` on a web page use `element.click()`.\n",
    "- To navigate back to the previous page use `browser.back()`."
   ]
  },
  {
   "cell_type": "markdown",
   "metadata": {
    "id": "lxPS-iXi-5fO"
   },
   "source": [
    "## Solution"
   ]
  },
  {
   "cell_type": "code",
   "execution_count": null,
   "metadata": {
    "id": "kbuPg7136_2q"
   },
   "outputs": [],
   "source": [
    "# Write your code here. Add as many code boxes as you need."
   ]
  }
 ],
 "metadata": {
  "colab": {
   "provenance": []
  },
  "kernelspec": {
   "display_name": "Python 3 (ipykernel)",
   "language": "python",
   "name": "python3"
  },
  "language_info": {
   "codemirror_mode": {
    "name": "ipython",
    "version": 3
   },
   "file_extension": ".py",
   "mimetype": "text/x-python",
   "name": "python",
   "nbconvert_exporter": "python",
   "pygments_lexer": "ipython3",
   "version": "3.12.7"
  }
 },
 "nbformat": 4,
 "nbformat_minor": 4
}
